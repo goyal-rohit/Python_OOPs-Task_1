{
 "cells": [
  {
   "cell_type": "markdown",
   "id": "dc28a877-8c06-4b11-b4cc-6ac7197c5c6f",
   "metadata": {},
   "source": [
    "Q1. Create a vehicle class with an init method having instance variables as name_of_vehicle, max_speed and average_of_vehicle."
   ]
  },
  {
   "cell_type": "code",
   "execution_count": 9,
   "id": "6a75c058-9b25-42b0-900c-1f645f7b6e1b",
   "metadata": {},
   "outputs": [],
   "source": [
    "class vehicle:\n",
    "    def __init__(self, name_of_vehicle, max_speed, average_of_speed):\n",
    "        self.name_of_vehicle = name_of_vehicle\n",
    "        self.max_speed = max_speed\n",
    "        self.average_of_speed = average_of_speed"
   ]
  },
  {
   "cell_type": "markdown",
   "id": "20ef1aa3-151a-40bf-afe4-8ff7a8cf7476",
   "metadata": {},
   "source": [
    "Q2. Create a child class car from the vehicle class created in Que 1, which will inherit the vehicle class. Create a method named seating_capacity which takes capacity as an argument and returns the name of the vehicle and its seating capacity."
   ]
  },
  {
   "cell_type": "code",
   "execution_count": 19,
   "id": "370a26ec-3f5f-46c1-849f-c7812672f43e",
   "metadata": {},
   "outputs": [],
   "source": [
    "class car (vehicle):\n",
    "    def __init__(self, name_of_vehicle, max_speed, average_of_speed):\n",
    "        super().__init__(name_of_vehicle, max_speed, average_of_speed)\n",
    "        \n",
    "    def seating_capacity(self, capacity):\n",
    "        self.capacity = capacity\n",
    "        return f\"{self.name_of_vehicle} has a seating capacity of {capacity} passengers.\""
   ]
  },
  {
   "cell_type": "code",
   "execution_count": 20,
   "id": "762f8371-e2d8-4416-97fb-632a71977f64",
   "metadata": {},
   "outputs": [],
   "source": [
    "obj_car = car(\"Nexon\", 160, 100)"
   ]
  },
  {
   "cell_type": "code",
   "execution_count": 21,
   "id": "b15385fd-7085-4595-8e35-1a2274ccff44",
   "metadata": {},
   "outputs": [
    {
     "data": {
      "text/plain": [
       "'Nexon has a seating capacity of 5 passengers.'"
      ]
     },
     "execution_count": 21,
     "metadata": {},
     "output_type": "execute_result"
    }
   ],
   "source": [
    "obj_car.seating_capacity(5)"
   ]
  },
  {
   "cell_type": "markdown",
   "id": "755cac5b-8f8a-4c62-9d49-489f49c423d4",
   "metadata": {},
   "source": [
    "Q3. What is multiple inheritance? Write a python code to demonstrate multiple inheritance."
   ]
  },
  {
   "cell_type": "markdown",
   "id": "86c31a4d-7503-4652-993f-fff93949cd9c",
   "metadata": {},
   "source": [
    "Multiple inheritance is a feature of some object-oriented programming languages, including Python, that allows a class to inherit from more than one base class. In multiple inheritance, a subclass can inherit attributes and methods from multiple parent classes, which can be useful for creating complex class hierarchies and reusing code."
   ]
  },
  {
   "cell_type": "code",
   "execution_count": 22,
   "id": "bd204933-09d0-4ec8-9d8e-1f450dafb348",
   "metadata": {},
   "outputs": [
    {
     "name": "stdout",
     "output_type": "stream",
     "text": [
      "Method A\n",
      "Method B\n",
      "Method C\n"
     ]
    }
   ],
   "source": [
    "class A:\n",
    "    def method_A(self):\n",
    "        print(\"Method A\")\n",
    "\n",
    "class B:\n",
    "    def method_B(self):\n",
    "        print(\"Method B\")\n",
    "\n",
    "class C(A, B):\n",
    "    def method_C(self):\n",
    "        print(\"Method C\")\n",
    "\n",
    "obj = C()\n",
    "obj.method_A()\n",
    "obj.method_B()\n",
    "obj.method_C()"
   ]
  },
  {
   "cell_type": "markdown",
   "id": "85cb90f4-89fc-43d3-924b-3030b1f82206",
   "metadata": {},
   "source": [
    "Q4. What are getter and setter in python? Create a class and create a getter and a setter method in this class."
   ]
  },
  {
   "cell_type": "code",
   "execution_count": 23,
   "id": "b3a86a9a-a89a-4d97-93e1-388c390f6ff6",
   "metadata": {},
   "outputs": [],
   "source": [
    "class car:\n",
    "    def __init__(self, year, make, model, speed):\n",
    "        self.__year = year\n",
    "        self.__make = make\n",
    "        self.__model = model\n",
    "        self.__speed = speed\n",
    "        \n",
    "    def set_speed(self,speed):\n",
    "        self.__speed = 0 if speed<0 else speed\n",
    "    def get_speed(self):\n",
    "        return self.__speed"
   ]
  },
  {
   "cell_type": "code",
   "execution_count": 24,
   "id": "8e5e57b9-7217-47fe-8aed-958c64191e03",
   "metadata": {},
   "outputs": [],
   "source": [
    "obj_car = car(2023,\"Tata\", \"Nexon\", 160)"
   ]
  },
  {
   "cell_type": "code",
   "execution_count": 25,
   "id": "68c3a01a-a1c7-40ce-918c-1dd713e0d829",
   "metadata": {},
   "outputs": [],
   "source": [
    "obj_car.set_speed(200)"
   ]
  },
  {
   "cell_type": "code",
   "execution_count": 26,
   "id": "ed897249-1779-475d-83e9-37ce587ae3e3",
   "metadata": {},
   "outputs": [
    {
     "data": {
      "text/plain": [
       "200"
      ]
     },
     "execution_count": 26,
     "metadata": {},
     "output_type": "execute_result"
    }
   ],
   "source": [
    "obj_car.get_speed()"
   ]
  },
  {
   "cell_type": "markdown",
   "id": "6bc2af30-c2de-4325-8175-4126f6af84bf",
   "metadata": {},
   "source": [
    "Q5.What is method overriding in python? Write a python code to demonstrate method overriding."
   ]
  },
  {
   "cell_type": "markdown",
   "id": "c9d09b5c-b037-4664-9b64-95717e34f3ae",
   "metadata": {},
   "source": [
    "Method overriding is a feature of object-oriented programming in which a subclass provides a different implementation of a method that is already defined in its parent class. When a method is overridden in a subclass, the new implementation is used instead of the parent class implementation when the method is called on instances of the subclass."
   ]
  },
  {
   "cell_type": "code",
   "execution_count": 27,
   "id": "0c9bbde7-f8b9-422d-9db4-af6fce172ec9",
   "metadata": {},
   "outputs": [
    {
     "name": "stdout",
     "output_type": "stream",
     "text": [
      "The dog barks.\n"
     ]
    }
   ],
   "source": [
    "class Animal:\n",
    "    def make_sound(self):\n",
    "        print(\"The animal makes a sound.\")\n",
    "\n",
    "class Dog(Animal):\n",
    "    def make_sound(self):\n",
    "        print(\"The dog barks.\")\n",
    "my_animal = \n",
    "my_dog = Dog()\n",
    "my_dog.make_sound()\n"
   ]
  },
  {
   "cell_type": "code",
   "execution_count": null,
   "id": "6aa2397e-4996-491e-8abd-71bd40db9a38",
   "metadata": {},
   "outputs": [],
   "source": []
  }
 ],
 "metadata": {
  "kernelspec": {
   "display_name": "Python 3 (ipykernel)",
   "language": "python",
   "name": "python3"
  },
  "language_info": {
   "codemirror_mode": {
    "name": "ipython",
    "version": 3
   },
   "file_extension": ".py",
   "mimetype": "text/x-python",
   "name": "python",
   "nbconvert_exporter": "python",
   "pygments_lexer": "ipython3",
   "version": "3.9.13"
  }
 },
 "nbformat": 4,
 "nbformat_minor": 5
}
